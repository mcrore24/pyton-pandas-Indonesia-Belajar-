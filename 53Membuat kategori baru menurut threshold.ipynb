{
 "cells": [
  {
   "cell_type": "code",
   "execution_count": 11,
   "id": "9b591891",
   "metadata": {},
   "outputs": [
    {
     "name": "stdout",
     "output_type": "stream",
     "text": [
      "1.3.4\n"
     ]
    }
   ],
   "source": [
    "import pandas as pd\n",
    "\n",
    "\n",
    "print(pd.__version__)\n"
   ]
  },
  {
   "cell_type": "code",
   "execution_count": 12,
   "id": "b4fb04a7",
   "metadata": {},
   "outputs": [
    {
     "data": {
      "text/html": [
       "<div>\n",
       "<style scoped>\n",
       "    .dataframe tbody tr th:only-of-type {\n",
       "        vertical-align: middle;\n",
       "    }\n",
       "\n",
       "    .dataframe tbody tr th {\n",
       "        vertical-align: top;\n",
       "    }\n",
       "\n",
       "    .dataframe thead th {\n",
       "        text-align: right;\n",
       "    }\n",
       "</style>\n",
       "<table border=\"1\" class=\"dataframe\">\n",
       "  <thead>\n",
       "    <tr style=\"text-align: right;\">\n",
       "      <th></th>\n",
       "      <th>hobi</th>\n",
       "    </tr>\n",
       "  </thead>\n",
       "  <tbody>\n",
       "    <tr>\n",
       "      <th>0</th>\n",
       "      <td>jogging</td>\n",
       "    </tr>\n",
       "    <tr>\n",
       "      <th>1</th>\n",
       "      <td>mancing</td>\n",
       "    </tr>\n",
       "    <tr>\n",
       "      <th>2</th>\n",
       "      <td>renangmancing</td>\n",
       "    </tr>\n",
       "    <tr>\n",
       "      <th>3</th>\n",
       "      <td>mancing</td>\n",
       "    </tr>\n",
       "    <tr>\n",
       "      <th>4</th>\n",
       "      <td>baca</td>\n",
       "    </tr>\n",
       "    <tr>\n",
       "      <th>5</th>\n",
       "      <td>baca</td>\n",
       "    </tr>\n",
       "    <tr>\n",
       "      <th>6</th>\n",
       "      <td>mancing</td>\n",
       "    </tr>\n",
       "    <tr>\n",
       "      <th>7</th>\n",
       "      <td>fotograsi</td>\n",
       "    </tr>\n",
       "    <tr>\n",
       "      <th>8</th>\n",
       "      <td>mancing</td>\n",
       "    </tr>\n",
       "    <tr>\n",
       "      <th>9</th>\n",
       "      <td>camping</td>\n",
       "    </tr>\n",
       "  </tbody>\n",
       "</table>\n",
       "</div>"
      ],
      "text/plain": [
       "            hobi\n",
       "0        jogging\n",
       "1        mancing\n",
       "2  renangmancing\n",
       "3        mancing\n",
       "4           baca\n",
       "5           baca\n",
       "6        mancing\n",
       "7      fotograsi\n",
       "8        mancing\n",
       "9        camping"
      ]
     },
     "execution_count": 12,
     "metadata": {},
     "output_type": "execute_result"
    }
   ],
   "source": [
    "d = {'hobi': ['jogging', 'mancing', 'renang'\n",
    "             'mancing', 'mancing', 'baca',\n",
    "             'baca', 'mancing', 'fotograsi',\n",
    "             'mancing', 'camping']}\n",
    "df = pd.DataFrame(d)\n",
    "df"
   ]
  },
  {
   "cell_type": "code",
   "execution_count": 13,
   "id": "a9e3e3e6",
   "metadata": {},
   "outputs": [
    {
     "data": {
      "text/plain": [
       "mancing          4\n",
       "baca             2\n",
       "jogging          1\n",
       "renangmancing    1\n",
       "fotograsi        1\n",
       "camping          1\n",
       "Name: hobi, dtype: int64"
      ]
     },
     "execution_count": 13,
     "metadata": {},
     "output_type": "execute_result"
    }
   ],
   "source": [
    "#membuat kategori baru berdasarkan threshold(ambang batas)\n",
    "df['hobi'].value_counts()\n"
   ]
  },
  {
   "cell_type": "code",
   "execution_count": 14,
   "id": "5f08daee",
   "metadata": {},
   "outputs": [
    {
     "data": {
      "text/plain": [
       "mancing          0.4\n",
       "baca             0.2\n",
       "jogging          0.1\n",
       "renangmancing    0.1\n",
       "fotograsi        0.1\n",
       "camping          0.1\n",
       "Name: hobi, dtype: float64"
      ]
     },
     "execution_count": 14,
     "metadata": {},
     "output_type": "execute_result"
    }
   ],
   "source": [
    "persentase = df['hobi'].value_counts(normalize=True)\n",
    "persentase\n"
   ]
  },
  {
   "cell_type": "code",
   "execution_count": 15,
   "id": "a6e943f0",
   "metadata": {},
   "outputs": [
    {
     "data": {
      "text/plain": [
       "Index([], dtype='object')"
      ]
     },
     "execution_count": 15,
     "metadata": {},
     "output_type": "execute_result"
    }
   ],
   "source": [
    "threshold = 0.1\n",
    "hobi_lain = persentase[persentase < threshold].index\n",
    "hobi_lain\n"
   ]
  },
  {
   "cell_type": "code",
   "execution_count": 16,
   "id": "5af0d892",
   "metadata": {},
   "outputs": [
    {
     "data": {
      "text/plain": [
       "0          jogging\n",
       "1          mancing\n",
       "2    renangmancing\n",
       "3          mancing\n",
       "4             baca\n",
       "5             baca\n",
       "6          mancing\n",
       "7        fotograsi\n",
       "8          mancing\n",
       "9          camping\n",
       "Name: hobi, dtype: object"
      ]
     },
     "execution_count": 16,
     "metadata": {},
     "output_type": "execute_result"
    }
   ],
   "source": [
    "df['hobi'] = df['hobi'].replace(hobi_lain,'lainnya')\n",
    "df['hobi']\n"
   ]
  },
  {
   "cell_type": "code",
   "execution_count": 17,
   "id": "08e50f1f",
   "metadata": {},
   "outputs": [
    {
     "data": {
      "text/plain": [
       "mancing          0.4\n",
       "baca             0.2\n",
       "jogging          0.1\n",
       "renangmancing    0.1\n",
       "fotograsi        0.1\n",
       "camping          0.1\n",
       "Name: hobi, dtype: float64"
      ]
     },
     "execution_count": 17,
     "metadata": {},
     "output_type": "execute_result"
    }
   ],
   "source": [
    "df['hobi'].value_counts(normalize=True)"
   ]
  }
 ],
 "metadata": {
  "kernelspec": {
   "display_name": "Python 3 (ipykernel)",
   "language": "python",
   "name": "python3"
  },
  "language_info": {
   "codemirror_mode": {
    "name": "ipython",
    "version": 3
   },
   "file_extension": ".py",
   "mimetype": "text/x-python",
   "name": "python",
   "nbconvert_exporter": "python",
   "pygments_lexer": "ipython3",
   "version": "3.9.7"
  }
 },
 "nbformat": 4,
 "nbformat_minor": 5
}
