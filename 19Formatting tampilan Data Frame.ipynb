{
 "cells": [
  {
   "cell_type": "code",
   "execution_count": 57,
   "id": "9b591891",
   "metadata": {},
   "outputs": [
    {
     "name": "stdout",
     "output_type": "stream",
     "text": [
      "1.3.4\n",
      "1.20.3\n"
     ]
    }
   ],
   "source": [
    "import pandas as pd\n",
    "import numpy as np\n",
    "\n",
    "print(pd.__version__)\n",
    "print(np.__version__)\n"
   ]
  },
  {
   "cell_type": "code",
   "execution_count": 58,
   "id": "df18c059",
   "metadata": {},
   "outputs": [
    {
     "data": {
      "text/html": [
       "<div>\n",
       "<style scoped>\n",
       "    .dataframe tbody tr th:only-of-type {\n",
       "        vertical-align: middle;\n",
       "    }\n",
       "\n",
       "    .dataframe tbody tr th {\n",
       "        vertical-align: top;\n",
       "    }\n",
       "\n",
       "    .dataframe thead th {\n",
       "        text-align: right;\n",
       "    }\n",
       "</style>\n",
       "<table border=\"1\" class=\"dataframe\">\n",
       "  <thead>\n",
       "    <tr style=\"text-align: right;\">\n",
       "      <th></th>\n",
       "      <th>omset</th>\n",
       "      <th>operasional</th>\n",
       "    </tr>\n",
       "  </thead>\n",
       "  <tbody>\n",
       "    <tr>\n",
       "      <th>0</th>\n",
       "      <td>7</td>\n",
       "      <td>11</td>\n",
       "    </tr>\n",
       "    <tr>\n",
       "      <th>1</th>\n",
       "      <td>16</td>\n",
       "      <td>13</td>\n",
       "    </tr>\n",
       "    <tr>\n",
       "      <th>2</th>\n",
       "      <td>19</td>\n",
       "      <td>17</td>\n",
       "    </tr>\n",
       "    <tr>\n",
       "      <th>3</th>\n",
       "      <td>8</td>\n",
       "      <td>18</td>\n",
       "    </tr>\n",
       "    <tr>\n",
       "      <th>4</th>\n",
       "      <td>12</td>\n",
       "      <td>12</td>\n",
       "    </tr>\n",
       "  </tbody>\n",
       "</table>\n",
       "</div>"
      ],
      "text/plain": [
       "   omset  operasional\n",
       "0      7           11\n",
       "1     16           13\n",
       "2     19           17\n",
       "3      8           18\n",
       "4     12           12"
      ]
     },
     "execution_count": 58,
     "metadata": {},
     "output_type": "execute_result"
    }
   ],
   "source": [
    "#buatkolom 5\n",
    "n_rows = 5\n",
    "\n",
    "#buatbaris \n",
    "n_cols = 2\n",
    "\n",
    "#judul kolom\n",
    "cols = ['omset','operasional']\n",
    "\n",
    "#membuat data frame dengan bilangan random integer dari angka 1 sampai 20 yang diisi didalam kolom rows dan cols\n",
    "df = pd.DataFrame(np.random.randint(1, 20, size=(n_rows, n_cols)),\n",
    "                    columns=cols)\n",
    "df"
   ]
  },
  {
   "cell_type": "code",
   "execution_count": 59,
   "id": "440ce069",
   "metadata": {},
   "outputs": [
    {
     "data": {
      "text/html": [
       "<div>\n",
       "<style scoped>\n",
       "    .dataframe tbody tr th:only-of-type {\n",
       "        vertical-align: middle;\n",
       "    }\n",
       "\n",
       "    .dataframe tbody tr th {\n",
       "        vertical-align: top;\n",
       "    }\n",
       "\n",
       "    .dataframe thead th {\n",
       "        text-align: right;\n",
       "    }\n",
       "</style>\n",
       "<table border=\"1\" class=\"dataframe\">\n",
       "  <thead>\n",
       "    <tr style=\"text-align: right;\">\n",
       "      <th></th>\n",
       "      <th>omset</th>\n",
       "      <th>operasional</th>\n",
       "    </tr>\n",
       "  </thead>\n",
       "  <tbody>\n",
       "    <tr>\n",
       "      <th>0</th>\n",
       "      <td>700000</td>\n",
       "      <td>110000</td>\n",
       "    </tr>\n",
       "    <tr>\n",
       "      <th>1</th>\n",
       "      <td>1600000</td>\n",
       "      <td>130000</td>\n",
       "    </tr>\n",
       "    <tr>\n",
       "      <th>2</th>\n",
       "      <td>1900000</td>\n",
       "      <td>170000</td>\n",
       "    </tr>\n",
       "    <tr>\n",
       "      <th>3</th>\n",
       "      <td>800000</td>\n",
       "      <td>180000</td>\n",
       "    </tr>\n",
       "    <tr>\n",
       "      <th>4</th>\n",
       "      <td>1200000</td>\n",
       "      <td>120000</td>\n",
       "    </tr>\n",
       "  </tbody>\n",
       "</table>\n",
       "</div>"
      ],
      "text/plain": [
       "     omset  operasional\n",
       "0   700000       110000\n",
       "1  1600000       130000\n",
       "2  1900000       170000\n",
       "3   800000       180000\n",
       "4  1200000       120000"
      ]
     },
     "execution_count": 59,
     "metadata": {},
     "output_type": "execute_result"
    }
   ],
   "source": [
    "#mengubah dataframe dengan pengalian data\n",
    "#fungsi (_) atau underscore itu untuk membuat karakter rupiah (angka ribuan belakang koma)\n",
    "df['omset'] = df['omset'] * 100_000\n",
    "df['operasional'] = df['operasional'] * 10_000\n",
    "df\n"
   ]
  },
  {
   "cell_type": "code",
   "execution_count": 60,
   "id": "cb00eff1",
   "metadata": {},
   "outputs": [
    {
     "data": {
      "text/html": [
       "<div>\n",
       "<style scoped>\n",
       "    .dataframe tbody tr th:only-of-type {\n",
       "        vertical-align: middle;\n",
       "    }\n",
       "\n",
       "    .dataframe tbody tr th {\n",
       "        vertical-align: top;\n",
       "    }\n",
       "\n",
       "    .dataframe thead th {\n",
       "        text-align: right;\n",
       "    }\n",
       "</style>\n",
       "<table border=\"1\" class=\"dataframe\">\n",
       "  <thead>\n",
       "    <tr style=\"text-align: right;\">\n",
       "      <th></th>\n",
       "      <th>tanggal</th>\n",
       "      <th>omset</th>\n",
       "      <th>operasional</th>\n",
       "    </tr>\n",
       "  </thead>\n",
       "  <tbody>\n",
       "    <tr>\n",
       "      <th>0</th>\n",
       "      <td>2000-01-01</td>\n",
       "      <td>700000</td>\n",
       "      <td>110000</td>\n",
       "    </tr>\n",
       "    <tr>\n",
       "      <th>1</th>\n",
       "      <td>2000-01-02</td>\n",
       "      <td>1600000</td>\n",
       "      <td>130000</td>\n",
       "    </tr>\n",
       "    <tr>\n",
       "      <th>2</th>\n",
       "      <td>2000-01-03</td>\n",
       "      <td>1900000</td>\n",
       "      <td>170000</td>\n",
       "    </tr>\n",
       "    <tr>\n",
       "      <th>3</th>\n",
       "      <td>2000-01-04</td>\n",
       "      <td>800000</td>\n",
       "      <td>180000</td>\n",
       "    </tr>\n",
       "    <tr>\n",
       "      <th>4</th>\n",
       "      <td>2000-01-05</td>\n",
       "      <td>1200000</td>\n",
       "      <td>120000</td>\n",
       "    </tr>\n",
       "  </tbody>\n",
       "</table>\n",
       "</div>"
      ],
      "text/plain": [
       "     tanggal    omset  operasional\n",
       "0 2000-01-01   700000       110000\n",
       "1 2000-01-02  1600000       130000\n",
       "2 2000-01-03  1900000       170000\n",
       "3 2000-01-04   800000       180000\n",
       "4 2000-01-05  1200000       120000"
      ]
     },
     "execution_count": 60,
     "metadata": {},
     "output_type": "execute_result"
    }
   ],
   "source": [
    "#membuat kolom baru berupa tanggal dengan fungsi makedateindex dengan freq = 'D' yang artinya formatnya hari\n",
    "df.index = pd.util.testing.makeDateIndex(n_rows, freq='D')\n",
    "df = df.reset_index()\n",
    "df = df.rename(columns={'index': 'tanggal'})\n",
    "df"
   ]
  },
  {
   "cell_type": "code",
   "execution_count": 61,
   "id": "bcf7812b",
   "metadata": {},
   "outputs": [
    {
     "data": {
      "text/html": [
       "<style type=\"text/css\">\n",
       "</style>\n",
       "<table id=\"T_2dfbc_\">\n",
       "  <thead>\n",
       "    <tr>\n",
       "      <th class=\"blank level0\" >&nbsp;</th>\n",
       "      <th class=\"col_heading level0 col0\" >tanggal</th>\n",
       "      <th class=\"col_heading level0 col1\" >omset</th>\n",
       "      <th class=\"col_heading level0 col2\" >operasional</th>\n",
       "    </tr>\n",
       "  </thead>\n",
       "  <tbody>\n",
       "    <tr>\n",
       "      <th id=\"T_2dfbc_level0_row0\" class=\"row_heading level0 row0\" >0</th>\n",
       "      <td id=\"T_2dfbc_row0_col0\" class=\"data row0 col0\" >01/01/2000</td>\n",
       "      <td id=\"T_2dfbc_row0_col1\" class=\"data row0 col1\" >Rp 700000.00</td>\n",
       "      <td id=\"T_2dfbc_row0_col2\" class=\"data row0 col2\" >Rp 110000.00</td>\n",
       "    </tr>\n",
       "    <tr>\n",
       "      <th id=\"T_2dfbc_level0_row1\" class=\"row_heading level0 row1\" >1</th>\n",
       "      <td id=\"T_2dfbc_row1_col0\" class=\"data row1 col0\" >02/01/2000</td>\n",
       "      <td id=\"T_2dfbc_row1_col1\" class=\"data row1 col1\" >Rp 1600000.00</td>\n",
       "      <td id=\"T_2dfbc_row1_col2\" class=\"data row1 col2\" >Rp 130000.00</td>\n",
       "    </tr>\n",
       "    <tr>\n",
       "      <th id=\"T_2dfbc_level0_row2\" class=\"row_heading level0 row2\" >2</th>\n",
       "      <td id=\"T_2dfbc_row2_col0\" class=\"data row2 col0\" >03/01/2000</td>\n",
       "      <td id=\"T_2dfbc_row2_col1\" class=\"data row2 col1\" >Rp 1900000.00</td>\n",
       "      <td id=\"T_2dfbc_row2_col2\" class=\"data row2 col2\" >Rp 170000.00</td>\n",
       "    </tr>\n",
       "    <tr>\n",
       "      <th id=\"T_2dfbc_level0_row3\" class=\"row_heading level0 row3\" >3</th>\n",
       "      <td id=\"T_2dfbc_row3_col0\" class=\"data row3 col0\" >04/01/2000</td>\n",
       "      <td id=\"T_2dfbc_row3_col1\" class=\"data row3 col1\" >Rp 800000.00</td>\n",
       "      <td id=\"T_2dfbc_row3_col2\" class=\"data row3 col2\" >Rp 180000.00</td>\n",
       "    </tr>\n",
       "    <tr>\n",
       "      <th id=\"T_2dfbc_level0_row4\" class=\"row_heading level0 row4\" >4</th>\n",
       "      <td id=\"T_2dfbc_row4_col0\" class=\"data row4 col0\" >05/01/2000</td>\n",
       "      <td id=\"T_2dfbc_row4_col1\" class=\"data row4 col1\" >Rp 1200000.00</td>\n",
       "      <td id=\"T_2dfbc_row4_col2\" class=\"data row4 col2\" >Rp 120000.00</td>\n",
       "    </tr>\n",
       "  </tbody>\n",
       "</table>\n"
      ],
      "text/plain": [
       "<pandas.io.formats.style.Styler at 0x1dc8fddcb80>"
      ]
     },
     "execution_count": 61,
     "metadata": {},
     "output_type": "execute_result"
    }
   ],
   "source": [
    "#malkukan formatting tampilan data frame\n",
    "#2.f menambahkan 2 digit angka dibelakang koma\n",
    "formatku = {'tanggal' : '{:%d/%m/%Y}',\n",
    "            'operasional' : 'Rp {:.2f}',\n",
    "            'omset' : 'Rp {:.2f}'}\n",
    "laporan = df.style.format(formatku)\n",
    "laporan\n"
   ]
  },
  {
   "cell_type": "code",
   "execution_count": 63,
   "id": "d2559338",
   "metadata": {},
   "outputs": [
    {
     "data": {
      "text/plain": [
       "pandas.io.formats.style.Styler"
      ]
     },
     "execution_count": 63,
     "metadata": {},
     "output_type": "execute_result"
    }
   ],
   "source": [
    "#format laporan itu berupa styler bukan dataframe\n",
    "\n",
    "type(laporan)\n"
   ]
  },
  {
   "cell_type": "code",
   "execution_count": 64,
   "id": "86a60fdf",
   "metadata": {},
   "outputs": [
    {
     "data": {
      "text/html": [
       "<style type=\"text/css\">\n",
       "</style>\n",
       "<table id=\"T_2dfbc_\">\n",
       "  <thead>\n",
       "    <tr>\n",
       "      <th class=\"col_heading level0 col0\" >tanggal</th>\n",
       "      <th class=\"col_heading level0 col1\" >omset</th>\n",
       "      <th class=\"col_heading level0 col2\" >operasional</th>\n",
       "    </tr>\n",
       "  </thead>\n",
       "  <tbody>\n",
       "    <tr>\n",
       "      <td id=\"T_2dfbc_row0_col0\" class=\"data row0 col0\" >01/01/2000</td>\n",
       "      <td id=\"T_2dfbc_row0_col1\" class=\"data row0 col1\" >Rp 700000.00</td>\n",
       "      <td id=\"T_2dfbc_row0_col2\" class=\"data row0 col2\" >Rp 110000.00</td>\n",
       "    </tr>\n",
       "    <tr>\n",
       "      <td id=\"T_2dfbc_row1_col0\" class=\"data row1 col0\" >02/01/2000</td>\n",
       "      <td id=\"T_2dfbc_row1_col1\" class=\"data row1 col1\" >Rp 1600000.00</td>\n",
       "      <td id=\"T_2dfbc_row1_col2\" class=\"data row1 col2\" >Rp 130000.00</td>\n",
       "    </tr>\n",
       "    <tr>\n",
       "      <td id=\"T_2dfbc_row2_col0\" class=\"data row2 col0\" >03/01/2000</td>\n",
       "      <td id=\"T_2dfbc_row2_col1\" class=\"data row2 col1\" >Rp 1900000.00</td>\n",
       "      <td id=\"T_2dfbc_row2_col2\" class=\"data row2 col2\" >Rp 170000.00</td>\n",
       "    </tr>\n",
       "    <tr>\n",
       "      <td id=\"T_2dfbc_row3_col0\" class=\"data row3 col0\" >04/01/2000</td>\n",
       "      <td id=\"T_2dfbc_row3_col1\" class=\"data row3 col1\" >Rp 800000.00</td>\n",
       "      <td id=\"T_2dfbc_row3_col2\" class=\"data row3 col2\" >Rp 180000.00</td>\n",
       "    </tr>\n",
       "    <tr>\n",
       "      <td id=\"T_2dfbc_row4_col0\" class=\"data row4 col0\" >05/01/2000</td>\n",
       "      <td id=\"T_2dfbc_row4_col1\" class=\"data row4 col1\" >Rp 1200000.00</td>\n",
       "      <td id=\"T_2dfbc_row4_col2\" class=\"data row4 col2\" >Rp 120000.00</td>\n",
       "    </tr>\n",
       "  </tbody>\n",
       "</table>\n"
      ],
      "text/plain": [
       "<pandas.io.formats.style.Styler at 0x1dc8fddcb80>"
      ]
     },
     "execution_count": 64,
     "metadata": {},
     "output_type": "execute_result"
    }
   ],
   "source": [
    "#berfungsi untuk menyembunyikan index dataframe\n",
    "laporan.hide_index()"
   ]
  },
  {
   "cell_type": "code",
   "execution_count": 65,
   "id": "0cb73f1b",
   "metadata": {},
   "outputs": [
    {
     "data": {
      "text/html": [
       "<style type=\"text/css\">\n",
       "</style>\n",
       "<table id=\"T_2dfbc_\">\n",
       "  <caption>Data omset dan Operasional</caption>\n",
       "  <thead>\n",
       "    <tr>\n",
       "      <th class=\"col_heading level0 col0\" >tanggal</th>\n",
       "      <th class=\"col_heading level0 col1\" >omset</th>\n",
       "      <th class=\"col_heading level0 col2\" >operasional</th>\n",
       "    </tr>\n",
       "  </thead>\n",
       "  <tbody>\n",
       "    <tr>\n",
       "      <td id=\"T_2dfbc_row0_col0\" class=\"data row0 col0\" >01/01/2000</td>\n",
       "      <td id=\"T_2dfbc_row0_col1\" class=\"data row0 col1\" >Rp 700000.00</td>\n",
       "      <td id=\"T_2dfbc_row0_col2\" class=\"data row0 col2\" >Rp 110000.00</td>\n",
       "    </tr>\n",
       "    <tr>\n",
       "      <td id=\"T_2dfbc_row1_col0\" class=\"data row1 col0\" >02/01/2000</td>\n",
       "      <td id=\"T_2dfbc_row1_col1\" class=\"data row1 col1\" >Rp 1600000.00</td>\n",
       "      <td id=\"T_2dfbc_row1_col2\" class=\"data row1 col2\" >Rp 130000.00</td>\n",
       "    </tr>\n",
       "    <tr>\n",
       "      <td id=\"T_2dfbc_row2_col0\" class=\"data row2 col0\" >03/01/2000</td>\n",
       "      <td id=\"T_2dfbc_row2_col1\" class=\"data row2 col1\" >Rp 1900000.00</td>\n",
       "      <td id=\"T_2dfbc_row2_col2\" class=\"data row2 col2\" >Rp 170000.00</td>\n",
       "    </tr>\n",
       "    <tr>\n",
       "      <td id=\"T_2dfbc_row3_col0\" class=\"data row3 col0\" >04/01/2000</td>\n",
       "      <td id=\"T_2dfbc_row3_col1\" class=\"data row3 col1\" >Rp 800000.00</td>\n",
       "      <td id=\"T_2dfbc_row3_col2\" class=\"data row3 col2\" >Rp 180000.00</td>\n",
       "    </tr>\n",
       "    <tr>\n",
       "      <td id=\"T_2dfbc_row4_col0\" class=\"data row4 col0\" >05/01/2000</td>\n",
       "      <td id=\"T_2dfbc_row4_col1\" class=\"data row4 col1\" >Rp 1200000.00</td>\n",
       "      <td id=\"T_2dfbc_row4_col2\" class=\"data row4 col2\" >Rp 120000.00</td>\n",
       "    </tr>\n",
       "  </tbody>\n",
       "</table>\n"
      ],
      "text/plain": [
       "<pandas.io.formats.style.Styler at 0x1dc8fddcb80>"
      ]
     },
     "execution_count": 65,
     "metadata": {},
     "output_type": "execute_result"
    }
   ],
   "source": [
    "#set_caption berfungsi menambahkan judul\n",
    "laporan.set_caption('Data omset dan Operasional')"
   ]
  },
  {
   "cell_type": "code",
   "execution_count": 68,
   "id": "673b522d",
   "metadata": {},
   "outputs": [
    {
     "data": {
      "text/html": [
       "<style type=\"text/css\">\n",
       "#T_2dfbc_row0_col1 {\n",
       "  background-color: pink;\n",
       "  background-color: pink;\n",
       "  background-color: pink;\n",
       "}\n",
       "#T_2dfbc_row0_col2 {\n",
       "  background-color: lightblue;\n",
       "  background-color: lightblue;\n",
       "  background-color: lightblue;\n",
       "}\n",
       "#T_2dfbc_row2_col1 {\n",
       "  background-color: lightgreen;\n",
       "  background-color: lightgreen;\n",
       "  background-color: lightgreen;\n",
       "}\n",
       "#T_2dfbc_row3_col2 {\n",
       "  background-color: grey;\n",
       "}\n",
       "</style>\n",
       "<table id=\"T_2dfbc_\">\n",
       "  <caption>Data omset dan Operasional</caption>\n",
       "  <thead>\n",
       "    <tr>\n",
       "      <th class=\"col_heading level0 col0\" >tanggal</th>\n",
       "      <th class=\"col_heading level0 col1\" >omset</th>\n",
       "      <th class=\"col_heading level0 col2\" >operasional</th>\n",
       "    </tr>\n",
       "  </thead>\n",
       "  <tbody>\n",
       "    <tr>\n",
       "      <td id=\"T_2dfbc_row0_col0\" class=\"data row0 col0\" >01/01/2000</td>\n",
       "      <td id=\"T_2dfbc_row0_col1\" class=\"data row0 col1\" >Rp 700000.00</td>\n",
       "      <td id=\"T_2dfbc_row0_col2\" class=\"data row0 col2\" >Rp 110000.00</td>\n",
       "    </tr>\n",
       "    <tr>\n",
       "      <td id=\"T_2dfbc_row1_col0\" class=\"data row1 col0\" >02/01/2000</td>\n",
       "      <td id=\"T_2dfbc_row1_col1\" class=\"data row1 col1\" >Rp 1600000.00</td>\n",
       "      <td id=\"T_2dfbc_row1_col2\" class=\"data row1 col2\" >Rp 130000.00</td>\n",
       "    </tr>\n",
       "    <tr>\n",
       "      <td id=\"T_2dfbc_row2_col0\" class=\"data row2 col0\" >03/01/2000</td>\n",
       "      <td id=\"T_2dfbc_row2_col1\" class=\"data row2 col1\" >Rp 1900000.00</td>\n",
       "      <td id=\"T_2dfbc_row2_col2\" class=\"data row2 col2\" >Rp 170000.00</td>\n",
       "    </tr>\n",
       "    <tr>\n",
       "      <td id=\"T_2dfbc_row3_col0\" class=\"data row3 col0\" >04/01/2000</td>\n",
       "      <td id=\"T_2dfbc_row3_col1\" class=\"data row3 col1\" >Rp 800000.00</td>\n",
       "      <td id=\"T_2dfbc_row3_col2\" class=\"data row3 col2\" >Rp 180000.00</td>\n",
       "    </tr>\n",
       "    <tr>\n",
       "      <td id=\"T_2dfbc_row4_col0\" class=\"data row4 col0\" >05/01/2000</td>\n",
       "      <td id=\"T_2dfbc_row4_col1\" class=\"data row4 col1\" >Rp 1200000.00</td>\n",
       "      <td id=\"T_2dfbc_row4_col2\" class=\"data row4 col2\" >Rp 120000.00</td>\n",
       "    </tr>\n",
       "  </tbody>\n",
       "</table>\n"
      ],
      "text/plain": [
       "<pandas.io.formats.style.Styler at 0x1dc8fddcb80>"
      ]
     },
     "execution_count": 68,
     "metadata": {},
     "output_type": "execute_result"
    }
   ],
   "source": [
    "#highlight_min berfungsi memberikan warna pada baris dengan nilai minimum\n",
    "#highlight_max berfungsi memberikan warna pada baris dengan nilai maximum\n",
    "laporan.highlight_min('omset', color='pink')\n",
    "laporan.highlight_max('omset', color='lightgreen')\n",
    "\n",
    "laporan.highlight_min('operasional', color='lightblue')\n",
    "laporan.highlight_max('operasional', color='grey')"
   ]
  }
 ],
 "metadata": {
  "kernelspec": {
   "display_name": "Python 3 (ipykernel)",
   "language": "python",
   "name": "python3"
  },
  "language_info": {
   "codemirror_mode": {
    "name": "ipython",
    "version": 3
   },
   "file_extension": ".py",
   "mimetype": "text/x-python",
   "name": "python",
   "nbconvert_exporter": "python",
   "pygments_lexer": "ipython3",
   "version": "3.9.7"
  }
 },
 "nbformat": 4,
 "nbformat_minor": 5
}
