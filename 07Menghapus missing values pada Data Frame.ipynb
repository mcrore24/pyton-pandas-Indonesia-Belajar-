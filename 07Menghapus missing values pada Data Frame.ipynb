{
 "cells": [
  {
   "cell_type": "code",
   "execution_count": 15,
   "id": "937dfa91",
   "metadata": {},
   "outputs": [
    {
     "name": "stdout",
     "output_type": "stream",
     "text": [
      "1.3.4\n"
     ]
    }
   ],
   "source": [
    "import pandas as pd\n",
    "\n",
    "\n",
    "print(pd.__version__)\n"
   ]
  },
  {
   "cell_type": "code",
   "execution_count": 16,
   "id": "c5ad5fd0",
   "metadata": {},
   "outputs": [
    {
     "name": "stderr",
     "output_type": "stream",
     "text": [
      "C:\\Users\\RedMarch\\anaconda3\\lib\\site-packages\\pandas\\util\\__init__.py:15: FutureWarning: pandas.util.testing is deprecated. Use the functions in the public API at pandas.testing instead.\n",
      "  import pandas.util.testing\n"
     ]
    },
    {
     "data": {
      "text/html": [
       "<div>\n",
       "<style scoped>\n",
       "    .dataframe tbody tr th:only-of-type {\n",
       "        vertical-align: middle;\n",
       "    }\n",
       "\n",
       "    .dataframe tbody tr th {\n",
       "        vertical-align: top;\n",
       "    }\n",
       "\n",
       "    .dataframe thead th {\n",
       "        text-align: right;\n",
       "    }\n",
       "</style>\n",
       "<table border=\"1\" class=\"dataframe\">\n",
       "  <thead>\n",
       "    <tr style=\"text-align: right;\">\n",
       "      <th></th>\n",
       "      <th>index</th>\n",
       "      <th>A</th>\n",
       "      <th>B</th>\n",
       "      <th>C</th>\n",
       "      <th>D</th>\n",
       "    </tr>\n",
       "  </thead>\n",
       "  <tbody>\n",
       "    <tr>\n",
       "      <th>0</th>\n",
       "      <td>WSmv4aUSVI</td>\n",
       "      <td>0.490091</td>\n",
       "      <td>-1.325173</td>\n",
       "      <td>-0.598842</td>\n",
       "      <td>2.438774</td>\n",
       "    </tr>\n",
       "    <tr>\n",
       "      <th>1</th>\n",
       "      <td>agARmeMNjp</td>\n",
       "      <td>0.918870</td>\n",
       "      <td>0.508535</td>\n",
       "      <td>0.572641</td>\n",
       "      <td>NaN</td>\n",
       "    </tr>\n",
       "    <tr>\n",
       "      <th>2</th>\n",
       "      <td>HBQdw1noz0</td>\n",
       "      <td>-0.140855</td>\n",
       "      <td>-0.505537</td>\n",
       "      <td>0.359218</td>\n",
       "      <td>-0.264285</td>\n",
       "    </tr>\n",
       "    <tr>\n",
       "      <th>3</th>\n",
       "      <td>5BQktZSYHB</td>\n",
       "      <td>NaN</td>\n",
       "      <td>-1.081598</td>\n",
       "      <td>-1.612353</td>\n",
       "      <td>-0.308562</td>\n",
       "    </tr>\n",
       "    <tr>\n",
       "      <th>4</th>\n",
       "      <td>L3hWUf83iL</td>\n",
       "      <td>-1.123662</td>\n",
       "      <td>-0.573161</td>\n",
       "      <td>0.669838</td>\n",
       "      <td>-0.533291</td>\n",
       "    </tr>\n",
       "  </tbody>\n",
       "</table>\n",
       "</div>"
      ],
      "text/plain": [
       "        index         A         B         C         D\n",
       "0  WSmv4aUSVI  0.490091 -1.325173 -0.598842  2.438774\n",
       "1  agARmeMNjp  0.918870  0.508535  0.572641       NaN\n",
       "2  HBQdw1noz0 -0.140855 -0.505537  0.359218 -0.264285\n",
       "3  5BQktZSYHB       NaN -1.081598 -1.612353 -0.308562\n",
       "4  L3hWUf83iL -1.123662 -0.573161  0.669838 -0.533291"
      ]
     },
     "execution_count": 16,
     "metadata": {},
     "output_type": "execute_result"
    }
   ],
   "source": [
    "df = pd.util.testing.makeMissingDataframe().reset_index()\n",
    "#menampilkan 5 data pertama saja\n",
    "df.head()"
   ]
  },
  {
   "cell_type": "code",
   "execution_count": 19,
   "id": "58b7e36e",
   "metadata": {},
   "outputs": [
    {
     "data": {
      "text/html": [
       "<div>\n",
       "<style scoped>\n",
       "    .dataframe tbody tr th:only-of-type {\n",
       "        vertical-align: middle;\n",
       "    }\n",
       "\n",
       "    .dataframe tbody tr th {\n",
       "        vertical-align: top;\n",
       "    }\n",
       "\n",
       "    .dataframe thead th {\n",
       "        text-align: right;\n",
       "    }\n",
       "</style>\n",
       "<table border=\"1\" class=\"dataframe\">\n",
       "  <thead>\n",
       "    <tr style=\"text-align: right;\">\n",
       "      <th></th>\n",
       "      <th>Z</th>\n",
       "      <th>A</th>\n",
       "      <th>B</th>\n",
       "      <th>C</th>\n",
       "      <th>D</th>\n",
       "    </tr>\n",
       "  </thead>\n",
       "  <tbody>\n",
       "    <tr>\n",
       "      <th>0</th>\n",
       "      <td>WSmv4aUSVI</td>\n",
       "      <td>0.490091</td>\n",
       "      <td>-1.325173</td>\n",
       "      <td>-0.598842</td>\n",
       "      <td>2.438774</td>\n",
       "    </tr>\n",
       "    <tr>\n",
       "      <th>1</th>\n",
       "      <td>agARmeMNjp</td>\n",
       "      <td>0.918870</td>\n",
       "      <td>0.508535</td>\n",
       "      <td>0.572641</td>\n",
       "      <td>NaN</td>\n",
       "    </tr>\n",
       "    <tr>\n",
       "      <th>2</th>\n",
       "      <td>HBQdw1noz0</td>\n",
       "      <td>-0.140855</td>\n",
       "      <td>-0.505537</td>\n",
       "      <td>0.359218</td>\n",
       "      <td>-0.264285</td>\n",
       "    </tr>\n",
       "    <tr>\n",
       "      <th>3</th>\n",
       "      <td>5BQktZSYHB</td>\n",
       "      <td>NaN</td>\n",
       "      <td>-1.081598</td>\n",
       "      <td>-1.612353</td>\n",
       "      <td>-0.308562</td>\n",
       "    </tr>\n",
       "    <tr>\n",
       "      <th>4</th>\n",
       "      <td>L3hWUf83iL</td>\n",
       "      <td>-1.123662</td>\n",
       "      <td>-0.573161</td>\n",
       "      <td>0.669838</td>\n",
       "      <td>-0.533291</td>\n",
       "    </tr>\n",
       "  </tbody>\n",
       "</table>\n",
       "</div>"
      ],
      "text/plain": [
       "            Z         A         B         C         D\n",
       "0  WSmv4aUSVI  0.490091 -1.325173 -0.598842  2.438774\n",
       "1  agARmeMNjp  0.918870  0.508535  0.572641       NaN\n",
       "2  HBQdw1noz0 -0.140855 -0.505537  0.359218 -0.264285\n",
       "3  5BQktZSYHB       NaN -1.081598 -1.612353 -0.308562\n",
       "4  L3hWUf83iL -1.123662 -0.573161  0.669838 -0.533291"
      ]
     },
     "execution_count": 19,
     "metadata": {},
     "output_type": "execute_result"
    }
   ],
   "source": [
    "df= df.rename(columns={'index' : 'Z'})\n",
    "df.head()"
   ]
  },
  {
   "cell_type": "code",
   "execution_count": 20,
   "id": "219eaf74",
   "metadata": {},
   "outputs": [],
   "source": [
    "df_backup = df.copy(deep=True)"
   ]
  },
  {
   "cell_type": "code",
   "execution_count": 21,
   "id": "f3c2a629",
   "metadata": {},
   "outputs": [
    {
     "data": {
      "text/html": [
       "<div>\n",
       "<style scoped>\n",
       "    .dataframe tbody tr th:only-of-type {\n",
       "        vertical-align: middle;\n",
       "    }\n",
       "\n",
       "    .dataframe tbody tr th {\n",
       "        vertical-align: top;\n",
       "    }\n",
       "\n",
       "    .dataframe thead th {\n",
       "        text-align: right;\n",
       "    }\n",
       "</style>\n",
       "<table border=\"1\" class=\"dataframe\">\n",
       "  <thead>\n",
       "    <tr style=\"text-align: right;\">\n",
       "      <th></th>\n",
       "      <th>Z</th>\n",
       "    </tr>\n",
       "  </thead>\n",
       "  <tbody>\n",
       "    <tr>\n",
       "      <th>0</th>\n",
       "      <td>WSmv4aUSVI</td>\n",
       "    </tr>\n",
       "    <tr>\n",
       "      <th>1</th>\n",
       "      <td>agARmeMNjp</td>\n",
       "    </tr>\n",
       "    <tr>\n",
       "      <th>2</th>\n",
       "      <td>HBQdw1noz0</td>\n",
       "    </tr>\n",
       "    <tr>\n",
       "      <th>3</th>\n",
       "      <td>5BQktZSYHB</td>\n",
       "    </tr>\n",
       "    <tr>\n",
       "      <th>4</th>\n",
       "      <td>L3hWUf83iL</td>\n",
       "    </tr>\n",
       "  </tbody>\n",
       "</table>\n",
       "</div>"
      ],
      "text/plain": [
       "            Z\n",
       "0  WSmv4aUSVI\n",
       "1  agARmeMNjp\n",
       "2  HBQdw1noz0\n",
       "3  5BQktZSYHB\n",
       "4  L3hWUf83iL"
      ]
     },
     "execution_count": 21,
     "metadata": {},
     "output_type": "execute_result"
    }
   ],
   "source": [
    "#menghapus nilai setiap missing value atau nan yang ada pada columns\n",
    "df = df.dropna(axis='columns')\n",
    "df.head()"
   ]
  },
  {
   "cell_type": "code",
   "execution_count": 22,
   "id": "765b7ccc",
   "metadata": {},
   "outputs": [
    {
     "data": {
      "text/html": [
       "<div>\n",
       "<style scoped>\n",
       "    .dataframe tbody tr th:only-of-type {\n",
       "        vertical-align: middle;\n",
       "    }\n",
       "\n",
       "    .dataframe tbody tr th {\n",
       "        vertical-align: top;\n",
       "    }\n",
       "\n",
       "    .dataframe thead th {\n",
       "        text-align: right;\n",
       "    }\n",
       "</style>\n",
       "<table border=\"1\" class=\"dataframe\">\n",
       "  <thead>\n",
       "    <tr style=\"text-align: right;\">\n",
       "      <th></th>\n",
       "      <th>Z</th>\n",
       "      <th>A</th>\n",
       "      <th>B</th>\n",
       "      <th>C</th>\n",
       "      <th>D</th>\n",
       "    </tr>\n",
       "  </thead>\n",
       "  <tbody>\n",
       "    <tr>\n",
       "      <th>0</th>\n",
       "      <td>WSmv4aUSVI</td>\n",
       "      <td>0.490091</td>\n",
       "      <td>-1.325173</td>\n",
       "      <td>-0.598842</td>\n",
       "      <td>2.438774</td>\n",
       "    </tr>\n",
       "    <tr>\n",
       "      <th>2</th>\n",
       "      <td>HBQdw1noz0</td>\n",
       "      <td>-0.140855</td>\n",
       "      <td>-0.505537</td>\n",
       "      <td>0.359218</td>\n",
       "      <td>-0.264285</td>\n",
       "    </tr>\n",
       "    <tr>\n",
       "      <th>4</th>\n",
       "      <td>L3hWUf83iL</td>\n",
       "      <td>-1.123662</td>\n",
       "      <td>-0.573161</td>\n",
       "      <td>0.669838</td>\n",
       "      <td>-0.533291</td>\n",
       "    </tr>\n",
       "    <tr>\n",
       "      <th>5</th>\n",
       "      <td>46cRWiXF0H</td>\n",
       "      <td>-0.996234</td>\n",
       "      <td>0.368804</td>\n",
       "      <td>-0.753756</td>\n",
       "      <td>0.768367</td>\n",
       "    </tr>\n",
       "    <tr>\n",
       "      <th>7</th>\n",
       "      <td>mGKwUJ4PeL</td>\n",
       "      <td>0.632527</td>\n",
       "      <td>1.094546</td>\n",
       "      <td>1.024984</td>\n",
       "      <td>1.005475</td>\n",
       "    </tr>\n",
       "  </tbody>\n",
       "</table>\n",
       "</div>"
      ],
      "text/plain": [
       "            Z         A         B         C         D\n",
       "0  WSmv4aUSVI  0.490091 -1.325173 -0.598842  2.438774\n",
       "2  HBQdw1noz0 -0.140855 -0.505537  0.359218 -0.264285\n",
       "4  L3hWUf83iL -1.123662 -0.573161  0.669838 -0.533291\n",
       "5  46cRWiXF0H -0.996234  0.368804 -0.753756  0.768367\n",
       "7  mGKwUJ4PeL  0.632527  1.094546  1.024984  1.005475"
      ]
     },
     "execution_count": 22,
     "metadata": {},
     "output_type": "execute_result"
    }
   ],
   "source": [
    "#mamnggil file backup\n",
    "df = df_backup.copy(deep = True)\n",
    "#menghapus setiap baris yang mengandung missing value / nan\n",
    "df = df.dropna(axis='rows')\n",
    "df.head()"
   ]
  },
  {
   "cell_type": "code",
   "execution_count": 23,
   "id": "d7ee2ded",
   "metadata": {},
   "outputs": [
    {
     "data": {
      "text/plain": [
       "Z    0.000000\n",
       "A    0.100000\n",
       "B    0.066667\n",
       "C    0.166667\n",
       "D    0.066667\n",
       "dtype: float64"
      ]
     },
     "execution_count": 23,
     "metadata": {},
     "output_type": "execute_result"
    }
   ],
   "source": [
    "#presentase missing value untuk tiap kolom\n",
    "df = df_backup.copy(deep = True)\n",
    "#fungsi isna () = untuk mengumpulkan setiap nilai missing value berdasrkan kolom\n",
    "#fungsi mean () = untuk menhitung presentase nilai error pada missing value yang ada pd kolom\n",
    "df.isna().mean()"
   ]
  },
  {
   "cell_type": "code",
   "execution_count": 27,
   "id": "8a96b6c4",
   "metadata": {},
   "outputs": [
    {
     "data": {
      "text/html": [
       "<div>\n",
       "<style scoped>\n",
       "    .dataframe tbody tr th:only-of-type {\n",
       "        vertical-align: middle;\n",
       "    }\n",
       "\n",
       "    .dataframe tbody tr th {\n",
       "        vertical-align: top;\n",
       "    }\n",
       "\n",
       "    .dataframe thead th {\n",
       "        text-align: right;\n",
       "    }\n",
       "</style>\n",
       "<table border=\"1\" class=\"dataframe\">\n",
       "  <thead>\n",
       "    <tr style=\"text-align: right;\">\n",
       "      <th></th>\n",
       "      <th>Z</th>\n",
       "      <th>A</th>\n",
       "      <th>B</th>\n",
       "      <th>D</th>\n",
       "    </tr>\n",
       "  </thead>\n",
       "  <tbody>\n",
       "    <tr>\n",
       "      <th>0</th>\n",
       "      <td>WSmv4aUSVI</td>\n",
       "      <td>0.490091</td>\n",
       "      <td>-1.325173</td>\n",
       "      <td>2.438774</td>\n",
       "    </tr>\n",
       "    <tr>\n",
       "      <th>1</th>\n",
       "      <td>agARmeMNjp</td>\n",
       "      <td>0.918870</td>\n",
       "      <td>0.508535</td>\n",
       "      <td>NaN</td>\n",
       "    </tr>\n",
       "    <tr>\n",
       "      <th>2</th>\n",
       "      <td>HBQdw1noz0</td>\n",
       "      <td>-0.140855</td>\n",
       "      <td>-0.505537</td>\n",
       "      <td>-0.264285</td>\n",
       "    </tr>\n",
       "    <tr>\n",
       "      <th>3</th>\n",
       "      <td>5BQktZSYHB</td>\n",
       "      <td>NaN</td>\n",
       "      <td>-1.081598</td>\n",
       "      <td>-0.308562</td>\n",
       "    </tr>\n",
       "    <tr>\n",
       "      <th>4</th>\n",
       "      <td>L3hWUf83iL</td>\n",
       "      <td>-1.123662</td>\n",
       "      <td>-0.573161</td>\n",
       "      <td>-0.533291</td>\n",
       "    </tr>\n",
       "  </tbody>\n",
       "</table>\n",
       "</div>"
      ],
      "text/plain": [
       "            Z         A         B         D\n",
       "0  WSmv4aUSVI  0.490091 -1.325173  2.438774\n",
       "1  agARmeMNjp  0.918870  0.508535       NaN\n",
       "2  HBQdw1noz0 -0.140855 -0.505537 -0.264285\n",
       "3  5BQktZSYHB       NaN -1.081598 -0.308562\n",
       "4  L3hWUf83iL -1.123662 -0.573161 -0.533291"
      ]
     },
     "execution_count": 27,
     "metadata": {},
     "output_type": "execute_result"
    }
   ],
   "source": [
    "#mnghapus (drop) setiap kolom yang mengandung missing value berdasrkan thresold (AMBANG BATAS)\n",
    "# 0.9 adalah value dari 90persen\n",
    "#len(df) berguna untuk menghitung jumlah rows / baris pada datakita\n",
    "\n",
    "treshold = len(df) * 0.9\n",
    "df = df.dropna(thresh = treshold, axis='columns')\n",
    "df.head()"
   ]
  },
  {
   "cell_type": "code",
   "execution_count": null,
   "id": "33b752a6",
   "metadata": {},
   "outputs": [],
   "source": []
  }
 ],
 "metadata": {
  "kernelspec": {
   "display_name": "Python 3 (ipykernel)",
   "language": "python",
   "name": "python3"
  },
  "language_info": {
   "codemirror_mode": {
    "name": "ipython",
    "version": 3
   },
   "file_extension": ".py",
   "mimetype": "text/x-python",
   "name": "python",
   "nbconvert_exporter": "python",
   "pygments_lexer": "ipython3",
   "version": "3.9.7"
  }
 },
 "nbformat": 4,
 "nbformat_minor": 5
}
